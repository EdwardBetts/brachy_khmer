{
 "metadata": {
  "name": "",
  "signature": "sha256:ed186f216994ab816c1abbc7c8994410945e634c065a0fb78281774332524039"
 },
 "nbformat": 3,
 "nbformat_minor": 0,
 "worksheets": [
  {
   "cells": [
    {
     "cell_type": "heading",
     "level": 1,
     "metadata": {},
     "source": [
      "K-mer hashing in *Brachypodium* "
     ]
    },
    {
     "cell_type": "code",
     "collapsed": false,
     "input": [
      "# Change into data directory.\n",
      "%cd ~/Documents/ben_ase3/data"
     ],
     "language": "python",
     "metadata": {},
     "outputs": [
      {
       "output_type": "stream",
       "stream": "stdout",
       "text": [
        "/media/ben/F4C412C9C4128DCC/Users/Ben/Documents/ANU/S2 2014 ASE3 BIOL3157/data\n"
       ]
      }
     ],
     "prompt_number": 19
    },
    {
     "cell_type": "heading",
     "level": 2,
     "metadata": {},
     "source": [
      "Aims"
     ]
    },
    {
     "cell_type": "markdown",
     "metadata": {},
     "source": [
      "- Exploring read-level clustering of *Brachypodium* using properties of the kmer distribution.\n",
      "- Experimental design should account for the range of input genetic diversity. Extremely distant samples may be incomparable.\n",
      "- Useful where SNP-based methods suffer from missing data/reference sequences.\n",
      "- We can look for similarities at the read-level rather than differences at the haplotypic level."
     ]
    },
    {
     "cell_type": "heading",
     "level": 2,
     "metadata": {},
     "source": [
      "Dependencies"
     ]
    },
    {
     "cell_type": "markdown",
     "metadata": {},
     "source": [
      "- python 2.x (developed on 2.7.6)\n",
      "- R 3.0+ (developed on 3.1.0)\n",
      "- khmer 1.2+ (developed on 1.2-rc2-6-gc5dee21)\n",
      "- wgsim (developed on 0.3.0)\n",
      "- pairs (from the seqqs library)"
     ]
    },
    {
     "cell_type": "code",
     "collapsed": false,
     "input": [
      "# IPython notebook should be started within a virtual environment.\n",
      "# After \"workon <virtual_env>\", check dependencies:\n",
      "!pip freeze"
     ],
     "language": "python",
     "metadata": {},
     "outputs": [
      {
       "output_type": "stream",
       "stream": "stdout",
       "text": [
        "Warning: cannot find svn location for apsw==3.8.2-r1\r\n",
        "BeautifulSoup==3.2.1\r\n",
        "Brlapi==0.6.1\r\n",
        "CherryPy==3.2.2\r\n",
        "FontTools==2.4\r\n",
        "GnuPGInterface==0.3.2\r\n",
        "Jinja2==2.7.2\r\n",
        "Mako==0.9.1\r\n",
        "Markdown==2.4\r\n",
        "MarkupSafe==0.18\r\n",
        "MySQL-python==1.2.3\r\n",
        "PAM==0.4.2\r\n",
        "Pillow==2.3.0\r\n",
        "Polygon2==2.0.6\r\n",
        "Pygments==1.6\r\n",
        "Routes==2.0\r\n",
        "SecretStorage==2.0.0\r\n",
        "TTFQuery==1.0.5\r\n",
        "Twisted-Core==13.2.0\r\n",
        "Twisted-Names==13.2.0\r\n",
        "Twisted-Web==13.2.0\r\n",
        "UniConvertor==1.1.4\r\n",
        "VPython==6.05\r\n",
        "WebOb==1.3.1\r\n",
        "adium-theme-ubuntu==0.3.4\r\n",
        "## FIXME: could not find svn URL in dependency_links for this package:\r\n",
        "apsw==3.8.2-r1\r\n",
        "apt-xapian-index==0.45\r\n",
        "argparse==1.2.1\r\n",
        "audioread==1.0.1\r\n",
        "ccsm==0.9.11.2\r\n",
        "chardet==2.0.1\r\n",
        "colorama==0.2.5\r\n",
        "command-not-found==0.3\r\n",
        "compizconfig-python==0.9.11.2\r\n",
        "configglue==1.1.2\r\n",
        "configobj==4.7.2\r\n",
        "cssselect==0.9.1\r\n",
        "cssutils==0.9.10\r\n",
        "debtagshw==0.1\r\n",
        "decorator==3.4.0\r\n",
        "defer==1.0.6\r\n",
        "deluge==1.3.6\r\n",
        "dirspec==13.10\r\n",
        "distribute==0.6.35\r\n",
        "dnspython==1.11.1\r\n",
        "docutils==0.11\r\n",
        "duplicity==0.6.23\r\n",
        "epydoc==3.0.1\r\n",
        "feedparser==5.1.3\r\n",
        "html5lib==0.999\r\n",
        "httplib2==0.8\r\n",
        "ipython==1.2.1\r\n",
        "keyring==3.5\r\n",
        "launchpadlib==1.10.2\r\n",
        "lazr.restfulclient==0.13.3\r\n",
        "lazr.uri==1.0.3\r\n",
        "lockfile==0.8\r\n",
        "louis==2.5.3\r\n",
        "lxml==3.3.3\r\n",
        "mechanize==0.2.5\r\n",
        "mercurial==2.5.1\r\n",
        "mutagen==1.22\r\n",
        "netifaces==0.8\r\n",
        "numpy==1.8.1\r\n",
        "oauth==1.0.1\r\n",
        "oauthlib==0.6.1\r\n",
        "oneconf==0.3.7\r\n",
        "pdfshuffler==0.6.0\r\n",
        "pexpect==3.1\r\n",
        "piston-mini-client==0.7.5\r\n",
        "protobuf==2.5.0\r\n",
        "puddletag==1.0.3\r\n",
        "pyOpenSSL==0.13\r\n",
        "pyPdf==1.13\r\n",
        "pyacoustid==1.0.0\r\n",
        "pycrypto==2.6.1\r\n",
        "pycups==1.9.66\r\n",
        "pycurl==7.19.3\r\n",
        "pyenchant==1.6.5\r\n",
        "pygame==1.9.1release\r\n",
        "pygobject==3.12.0\r\n",
        "pygpgme==0.3\r\n",
        "pyinotify==0.9.4\r\n",
        "pymad==0.7\r\n",
        "pyparsing==2.0.1\r\n",
        "pyserial==2.6\r\n",
        "pysmbc==1.0.14.1\r\n",
        "python-apt==0.9.3.5\r\n",
        "python-dateutil==1.5\r\n",
        "python-debian==0.1.21-nmu2ubuntu2\r\n",
        "python-libtorrent==0.16.13\r\n",
        "python-musicbrainz2==0.7.4\r\n",
        "pyxdg==0.25\r\n",
        "pyzmq==14.0.1\r\n",
        "reportlab==3.0\r\n",
        "repoze.lru==0.6\r\n",
        "requests==2.2.1\r\n",
        "roman==2.0.0\r\n",
        "rubber==1.1\r\n",
        "sessioninstaller==0.0.0\r\n",
        "simplegeneric==0.8.1\r\n",
        "simplejson==3.3.1\r\n",
        "six==1.5.2\r\n",
        "software-center-aptd-plugins==0.0.0\r\n",
        "stevedore==0.8\r\n",
        "system-service==0.1.6\r\n",
        "tornado==3.1.1\r\n",
        "traits==4.1.0\r\n",
        "uTidylib==0.2\r\n",
        "unity-lens-photos==1.0\r\n",
        "urllib3==1.7.1\r\n",
        "virtkey==0.63.0\r\n",
        "virtualenv==1.8.4\r\n",
        "virtualenv-clone==0.2.4\r\n",
        "virtualenvwrapper==3.6\r\n",
        "wadllib==1.3.2\r\n",
        "wsgiref==0.1.2\r\n",
        "wxPython==2.8.12.1\r\n",
        "wxPython-common==2.8.12.1\r\n",
        "xdiagnose==3.6.3build2\r\n",
        "xkit==0.0.0\r\n",
        "xlwt==0.7.5\r\n",
        "zope.interface==4.0.5\r\n"
       ]
      }
     ],
     "prompt_number": 5
    },
    {
     "cell_type": "heading",
     "level": 2,
     "metadata": {},
     "source": [
      "khmer demo"
     ]
    },
    {
     "cell_type": "heading",
     "level": 2,
     "metadata": {},
     "source": [
      "Simulating WGS data\n",
      "\n"
     ]
    },
    {
     "cell_type": "markdown",
     "metadata": {},
     "source": [
      "We simulate sequencing data from genomes with different characteristics to see if we can detect subgenome signal."
     ]
    },
    {
     "cell_type": "code",
     "collapsed": false,
     "input": [
      "!wgsim"
     ],
     "language": "python",
     "metadata": {},
     "outputs": [
      {
       "output_type": "stream",
       "stream": "stdout",
       "text": [
        "/bin/sh: 1: wgsim: not found\r\n"
       ]
      }
     ],
     "prompt_number": 6
    },
    {
     "cell_type": "code",
     "collapsed": false,
     "input": [
      "%%bash\n",
      "# Simulating diploid genome reads with polymorphism rate 1/200.\n"
     ],
     "language": "python",
     "metadata": {},
     "outputs": [],
     "prompt_number": 8
    },
    {
     "cell_type": "code",
     "collapsed": false,
     "input": [
      "%%bash\n",
      "# Simulating reads from a polyploid genome with a subgenome with different mutation rate.\n"
     ],
     "language": "python",
     "metadata": {},
     "outputs": [],
     "prompt_number": 8
    },
    {
     "cell_type": "markdown",
     "metadata": {},
     "source": [
      "Setting sequencing error rate to 0 during simulation (default 0.02) only smooths the spectra.\n"
     ]
    },
    {
     "cell_type": "heading",
     "level": 2,
     "metadata": {},
     "source": [
      "Hashing simulated data"
     ]
    },
    {
     "cell_type": "heading",
     "level": 2,
     "metadata": {},
     "source": [
      "Hashing real WGS data"
     ]
    },
    {
     "cell_type": "heading",
     "level": 2,
     "metadata": {},
     "source": [
      "Hashing real GBS data"
     ]
    },
    {
     "cell_type": "markdown",
     "metadata": {},
     "source": [
      "Compared to WGS data, there are additional considerations with GBS data:\n",
      "\n",
      "- Inherently lower coverage.\n",
      "- Reads are clustered around cut sites, not evenly distributed across the genome.\n",
      "    - Can result in repetitive sequences?\n",
      "- Only a subset of possible kmers is available.\n",
      "- PCR introduces error.\n",
      "    - Overall, the noise peak tends to be prominent.\n",
      "    \n",
      "We used two *Brachypodium* GBS datasets: bd1 (mostly diploid) and bd6 (mostly hexaploid).\n"
     ]
    },
    {
     "cell_type": "code",
     "collapsed": false,
     "input": [
      "%%bash\n",
      "# Hashing at k=25."
     ],
     "language": "python",
     "metadata": {},
     "outputs": []
    },
    {
     "cell_type": "heading",
     "level": 2,
     "metadata": {},
     "source": [
      "Source"
     ]
    },
    {
     "cell_type": "markdown",
     "metadata": {},
     "source": [
      "Work in progress at https://github.com/digitase/brachy_khmer"
     ]
    },
    {
     "cell_type": "heading",
     "level": 2,
     "metadata": {},
     "source": [
      "Acknowledgements"
     ]
    },
    {
     "cell_type": "markdown",
     "metadata": {},
     "source": [
      "Borevitz Lab, ANU esp. Kevin Murray"
     ]
    }
   ],
   "metadata": {}
  }
 ]
}