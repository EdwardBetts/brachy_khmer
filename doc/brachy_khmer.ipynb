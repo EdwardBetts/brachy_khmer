{
 "metadata": {
  "name": "",
  "signature": "sha256:54029db062bdc9ed14a6e9e481ef47bb4b4746e007198c17ed9f6b1441e0e686"
 },
 "nbformat": 3,
 "nbformat_minor": 0,
 "worksheets": [
  {
   "cells": [
    {
     "cell_type": "heading",
     "level": 1,
     "metadata": {},
     "source": [
      "K-mer hashing in *Brachypodium* "
     ]
    },
    {
     "cell_type": "code",
     "collapsed": false,
     "input": [
      "# Change into data directory.\n",
      "%cd ~/data/"
     ],
     "language": "python",
     "metadata": {},
     "outputs": [
      {
       "output_type": "stream",
       "stream": "stdout",
       "text": [
        "/home/ben/data\n"
       ]
      }
     ],
     "prompt_number": 20
    },
    {
     "cell_type": "heading",
     "level": 2,
     "metadata": {},
     "source": [
      "Intro"
     ]
    },
    {
     "cell_type": "markdown",
     "metadata": {},
     "source": [
      "- Exploring read-level clustering of *Brachypodium* using properties of the kmer distribution.\n",
      "- Experimental design should account for the range of input genetic diversity. Extremely distant samples may be incomparable.\n",
      "- Useful where SNP-based methods suffer from missing data/reference sequences.\n",
      "- We can look for similarities at the read-level rather than differences at the haplotypic level."
     ]
    },
    {
     "cell_type": "heading",
     "level": 2,
     "metadata": {},
     "source": [
      "Dependencies"
     ]
    },
    {
     "cell_type": "markdown",
     "metadata": {},
     "source": [
      "- python 2.x (developed on 2.7.6)\n",
      "- R 3.0+ (developed on 3.1.0)\n",
      "- khmer 1.2+ (developed on 1.2-rc2-6-gc5dee21)\n",
      "- wgsim (developed on 0.3.0, from samtools library)\n",
      "- pairs (from the seqqs library)"
     ]
    },
    {
     "cell_type": "code",
     "collapsed": false,
     "input": [
      "# IPython notebook should be started within a virtual environment.\n",
      "# After \"workon <virtual_env>\", check dependencies:\n",
      "!pip freeze"
     ],
     "language": "python",
     "metadata": {},
     "outputs": [
      {
       "output_type": "stream",
       "stream": "stdout",
       "text": [
        "argparse==1.2.1\r\n",
        "khmer==1.2-rc2-6-gc5dee21\r\n",
        "matplotlib==1.4.0\r\n",
        "mock==1.0.1\r\n",
        "nose==1.3.4\r\n",
        "numpy==1.9.0\r\n",
        "pyparsing==2.0.3\r\n",
        "python-dateutil==2.2\r\n",
        "screed==0.7.1\r\n",
        "six==1.8.0\r\n",
        "wsgiref==0.1.2\r\n"
       ]
      }
     ],
     "prompt_number": 2
    },
    {
     "cell_type": "heading",
     "level": 2,
     "metadata": {},
     "source": [
      "khmer demo"
     ]
    },
    {
     "cell_type": "code",
     "collapsed": false,
     "input": [
      "# Hashes kmers using Bloom filters.\n",
      "# Output is a binary kmer hash table.\n",
      "# Max k=32 by trial and error.\n",
      "# We can't use more than one thread if we want to count kmer abundances past 255.\n",
      "!load-into-counting.py"
     ],
     "language": "python",
     "metadata": {},
     "outputs": [
      {
       "output_type": "stream",
       "stream": "stdout",
       "text": [
        "\r\n",
        "|| This is the script 'load-into-counting.py' in khmer.\r\n",
        "|| You are running khmer version 1.2-rc2-6-gc5dee21\r\n",
        "|| You are also using screed version 0.7\r\n",
        "||\r\n",
        "|| If you use this script in a publication, please cite EACH of the following:\r\n",
        "||\r\n",
        "||   * MR Crusoe et al., 2014. doi: 10.6084/m9.figshare.979190\r\n",
        "||   * Q Zhang et al., arXiv:1309.2975 [q-bio.GN]\r\n",
        "||\r\n",
        "|| Please see http://khmer.readthedocs.org/en/latest/citations.html for details.\r\n",
        "\r\n",
        "usage: load-into-counting.py [-h] [--version] [-q] [--ksize KSIZE] [--n_tables N_TABLES] [--min-tablesize MIN_TABLESIZE] [--threads N_THREADS] [-b]\r\n",
        "                             [--report-total-kmers]\r\n",
        "                             output_countingtable_filename input_sequence_filename [input_sequence_filename ...]\r\n",
        "load-into-counting.py: error: too few arguments\r\n"
       ]
      }
     ],
     "prompt_number": 28
    },
    {
     "cell_type": "code",
     "collapsed": false,
     "input": [
      "# Counts abundance of kmers in hash table.\n",
      "# Output is a kmer abundance-frequency table.\n",
      "!abundance-dist.py"
     ],
     "language": "python",
     "metadata": {},
     "outputs": [
      {
       "output_type": "stream",
       "stream": "stdout",
       "text": [
        "\r\n",
        "|| This is the script 'abundance-dist.py' in khmer.\r\n",
        "|| You are running khmer version 1.2-rc2-6-gc5dee21\r\n",
        "|| You are also using screed version 0.7\r\n",
        "||\r\n",
        "|| If you use this script in a publication, please cite EACH of the following:\r\n",
        "||\r\n",
        "||   * MR Crusoe et al., 2014. doi: 10.6084/m9.figshare.979190\r\n",
        "||   * Q Zhang et al., arXiv:1309.2975 [q-bio.GN]\r\n",
        "||\r\n",
        "|| Please see http://khmer.readthedocs.org/en/latest/citations.html for details.\r\n",
        "\r\n",
        "usage: abundance-dist.py [-h] [-z] [-s] [--version] input_counting_table_filename input_sequence_filename output_histogram_filename\r\n",
        "abundance-dist.py: error: too few arguments\r\n"
       ]
      }
     ],
     "prompt_number": 32
    },
    {
     "cell_type": "code",
     "collapsed": false,
     "input": [
      "%%bash\n",
      "\n",
      "# kmer length\n",
      "# Number of hash tables: each table has a different offset so that collisions can be resolved\n",
      "# Size of each table: the larger the tables, the lower the collision chance\n",
      "# Output filename\n",
      "# Input interleaved FASTQ\n",
      "cd test/\n",
      "load-into-counting.py --ksize 25 --n_tables 4 --min-tablesize 1e5 test.k25.htable test.il.fq.gz\n",
      "\n",
      "# Notice the high false positive rate\n",
      "# \"fp rate estimated to be 0.603\""
     ],
     "language": "python",
     "metadata": {},
     "outputs": [
      {
       "output_type": "stream",
       "stream": "stdout",
       "text": [
        "Saving k-mer counting table to test.k25.htable\n",
        "Loading kmers from sequences in ['test.il.fq.gz']\n",
        "making k-mer counting table\n",
        "consuming input test.il.fq.gz\n",
        "saving test.k25.htable\n",
        "fp rate estimated to be 0.603\n"
       ]
      },
      {
       "output_type": "stream",
       "stream": "stderr",
       "text": [
        "\n",
        "|| This is the script 'load-into-counting.py' in khmer.\n",
        "|| You are running khmer version 1.2-rc2-6-gc5dee21\n",
        "|| You are also using screed version 0.7\n",
        "||\n",
        "|| If you use this script in a publication, please cite EACH of the following:\n",
        "||\n",
        "||   * MR Crusoe et al., 2014. doi: 10.6084/m9.figshare.979190\n",
        "||   * Q Zhang et al., arXiv:1309.2975 [q-bio.GN]\n",
        "||\n",
        "|| Please see http://khmer.readthedocs.org/en/latest/citations.html for details.\n",
        "\n",
        "\n",
        "PARAMETERS:\n",
        " - kmer size =    25 \t\t(-k)\n",
        " - n tables =     4 \t\t(-N)\n",
        " - min tablesize = 1e+05 \t(-x)\n",
        "\n",
        "Estimated memory usage is 4e+05 bytes (n_tables x min_tablesize)\n",
        "--------\n",
        "**\n",
        "** ERROR: the k-mer counting table is too small this data set.  Increase tablesize/# tables.\n",
        "**\n"
       ]
      }
     ],
     "prompt_number": 48
    },
    {
     "cell_type": "code",
     "collapsed": false,
     "input": [
      "%%bash\n",
      "\n",
      "# Multiplying the table size by 8\n",
      "cd test/\n",
      "load-into-counting.py --ksize 25 --n_tables 4 --min-tablesize 8e5 test.k25.htable test.il.fq.gz\n",
      "# \"fp rate estimated to be 0.003\""
     ],
     "language": "python",
     "metadata": {},
     "outputs": [
      {
       "output_type": "stream",
       "stream": "stdout",
       "text": [
        "Saving k-mer counting table to test.k25.htable\n",
        "Loading kmers from sequences in ['test.il.fq.gz']\n",
        "making k-mer counting table\n",
        "consuming input test.il.fq.gz\n",
        "saving test.k25.htable\n",
        "fp rate estimated to be 0.003\n",
        "DONE.\n",
        "wrote to: test.k25.htable.info\n"
       ]
      },
      {
       "output_type": "stream",
       "stream": "stderr",
       "text": [
        "\n",
        "|| This is the script 'load-into-counting.py' in khmer.\n",
        "|| You are running khmer version 1.2-rc2-6-gc5dee21\n",
        "|| You are also using screed version 0.7\n",
        "||\n",
        "|| If you use this script in a publication, please cite EACH of the following:\n",
        "||\n",
        "||   * MR Crusoe et al., 2014. doi: 10.6084/m9.figshare.979190\n",
        "||   * Q Zhang et al., arXiv:1309.2975 [q-bio.GN]\n",
        "||\n",
        "|| Please see http://khmer.readthedocs.org/en/latest/citations.html for details.\n",
        "\n",
        "\n",
        "PARAMETERS:\n",
        " - kmer size =    25 \t\t(-k)\n",
        " - n tables =     4 \t\t(-N)\n",
        " - min tablesize = 8e+05 \t(-x)\n",
        "\n",
        "Estimated memory usage is 3.2e+06 bytes (n_tables x min_tablesize)\n",
        "--------\n"
       ]
      }
     ],
     "prompt_number": 47
    },
    {
     "cell_type": "code",
     "collapsed": false,
     "input": [
      "%%bash\n",
      "\n",
      "# Generate abundance frequency table\n",
      "cd test/\n",
      "abundance-dist.py --no-zero --squash test.k25.htable test.il.fq.gz test.k25.hist"
     ],
     "language": "python",
     "metadata": {},
     "outputs": [
      {
       "output_type": "stream",
       "stream": "stdout",
       "text": [
        "hashtable from test.k25.htable\n",
        "K: 25\n",
        "HT sizes: [100003L, 100019L, 100043L, 100049L]\n",
        "outputting to test.k25.hist\n",
        "preparing hist...\n"
       ]
      },
      {
       "output_type": "stream",
       "stream": "stderr",
       "text": [
        "\n",
        "|| This is the script 'abundance-dist.py' in khmer.\n",
        "|| You are running khmer version 1.2-rc2-6-gc5dee21\n",
        "|| You are also using screed version 0.7\n",
        "||\n",
        "|| If you use this script in a publication, please cite EACH of the following:\n",
        "||\n",
        "||   * MR Crusoe et al., 2014. doi: 10.6084/m9.figshare.979190\n",
        "||   * Q Zhang et al., arXiv:1309.2975 [q-bio.GN]\n",
        "||\n",
        "|| Please see http://khmer.readthedocs.org/en/latest/citations.html for details.\n",
        "\n"
       ]
      }
     ],
     "prompt_number": 50
    },
    {
     "cell_type": "code",
     "collapsed": false,
     "input": [
      "%%bash\n",
      "\n",
      "# Columns are:\n",
      "# kmer abundance\n",
      "# freq of kmers at that abundance count\n",
      "# cumulative abundance\n",
      "# cumulative fraction of total distinct k-mers.\n",
      "\n",
      "cat test/test.k25.hist"
     ],
     "language": "python",
     "metadata": {},
     "outputs": [
      {
       "output_type": "stream",
       "stream": "stdout",
       "text": [
        "1 80191 80191 0.486\n",
        "2 62496 142687 0.866\n",
        "3 18897 161584 0.98\n",
        "4 2748 164332 0.997\n",
        "5 272 164604 0.999\n",
        "6 42 164646 0.999\n",
        "7 32 164678 0.999\n",
        "8 33 164711 0.999\n",
        "9 18 164729 0.999\n",
        "10 17 164746 0.999\n",
        "11 10 164756 0.999\n",
        "12 5 164761 0.999\n",
        "13 8 164769 1.0\n",
        "14 9 164778 1.0\n",
        "16 1 164779 1.0\n",
        "17 2 164781 1.0\n",
        "18 1 164782 1.0\n",
        "19 1 164783 1.0\n",
        "21 1 164784 1.0\n",
        "22 1 164785 1.0\n",
        "23 1 164786 1.0\n",
        "24 1 164787 1.0\n",
        "26 1 164788 1.0\n",
        "27 3 164791 1.0\n",
        "28 4 164795 1.0\n",
        "29 2 164797 1.0\n",
        "30 3 164800 1.0\n",
        "31 7 164807 1.0\n",
        "32 9 164816 1.0\n",
        "33 9 164825 1.0\n",
        "34 3 164828 1.0\n",
        "35 3 164831 1.0\n",
        "36 3 164834 1.0\n",
        "37 1 164835 1.0\n",
        "38 1 164836 1.0\n",
        "40 5 164841 1.0\n",
        "41 1 164842 1.0\n",
        "42 1 164843 1.0\n",
        "131 1 164844 1.0\n"
       ]
      }
     ],
     "prompt_number": 52
    },
    {
     "cell_type": "code",
     "collapsed": false,
     "input": [
      "%%bash\n",
      "\n",
      "# Plotting freq against abundance to produce the spectra\n",
      "# xlim = ylim = 60\n",
      "cd test/\n",
      "python ../../brachy_khmer/scripts/plot_hist.py test.k25.hist 60 60"
     ],
     "language": "python",
     "metadata": {},
     "outputs": [],
     "prompt_number": 63
    },
    {
     "cell_type": "code",
     "collapsed": false,
     "input": [
      "from IPython.core.display import Image \n",
      "Image(filename=\"test/test.k25.png\") "
     ],
     "language": "python",
     "metadata": {},
     "outputs": [
      {
       "metadata": {},
       "output_type": "pyout",
       "png": "[encoded data removed]",
       "prompt_number": 64,
       "text": [
        "<IPython.core.display.Image at 0x7f9bc91e25d0>"
       ]
      }
     ],
     "prompt_number": 64
    },
    {
     "cell_type": "heading",
     "level": 2,
     "metadata": {},
     "source": [
      "Simulating WGS data\n",
      "\n"
     ]
    },
    {
     "cell_type": "markdown",
     "metadata": {},
     "source": [
      "We simulate sequencing data from genomes with different characteristics to see if we can detect a subgenome signal."
     ]
    },
    {
     "cell_type": "code",
     "collapsed": false,
     "input": [
      "# !wgsim\n",
      "!/usr/local/src/samtools/misc/wgsim"
     ],
     "language": "python",
     "metadata": {},
     "outputs": [
      {
       "output_type": "stream",
       "stream": "stdout",
       "text": [
        "\r\n",
        "Program: wgsim (short read simulator)\r\n",
        "Version: 0.3.0\r\n",
        "Contact: Heng Li <lh3@sanger.ac.uk>\r\n",
        "\r\n",
        "Usage:   wgsim [options] <in.ref.fa> <out.read1.fq> <out.read2.fq>\r\n",
        "\r\n",
        "Options: -e FLOAT      base error rate [0.020]\r\n",
        "         -d INT        outer distance between the two ends [500]\r\n",
        "         -s INT        standard deviation [50]\r\n",
        "         -N INT        number of read pairs [1000000]\r\n",
        "         -1 INT        length of the first read [70]\r\n",
        "         -2 INT        length of the second read [70]\r\n",
        "         -r FLOAT      rate of mutations [0.0010]\r\n",
        "         -R FLOAT      fraction of indels [0.15]\r\n",
        "         -X FLOAT      probability an indel is extended [0.30]\r\n",
        "         -S INT        seed for random generator [-1]\r\n",
        "         -h            haplotype mode\r\n",
        "\r\n"
       ]
      }
     ],
     "prompt_number": 4
    },
    {
     "cell_type": "code",
     "collapsed": false,
     "input": [
      "%%bash\n",
      "# Simulating reads from a polyploid genome with a subgenome with different mutation rate.\n",
      "\n",
      "# Wrapper script sim_subgenomes.sh\n",
      "# Simulates 3M reads at a polymorphism rate of 0.005 (1/200), then simulates 3M reads at a polymorphism rate of 0.05 and merges.\n",
      "# 0.05 is probably too high, inflating the error peak.\n",
      "\n",
      "export PATH=$PATH:\"/mnt/rescued_fast/kevin/ws/gbsqc/tools/seqqs/\":\"/usr/local/src/samtools/misc/\"\n",
      "cd subgenome_sim/\n",
      "\n",
      "# Reference file .fa.gz\n",
      "# Total number of read pairs and read length\n",
      "# Sequencing error rate\n",
      "# Number of subgenomes\n",
      "# Respective proportion of reads from each subgenome\n",
      "# Respective polymorphism rates\n",
      "../../brachy_khmer/scripts/sim_subgenomes.sh ../Bdistachyon_MIPS_1_2.fa.gz \\\n",
      "                                          6000000 100 \\\n",
      "                                          0.02 \\\n",
      "                                          2 \\\n",
      "                                          0.5 0.5 \\\n",
      "                                          0.05 0.005"
     ],
     "language": "python",
     "metadata": {},
     "outputs": [
      {
       "output_type": "stream",
       "stream": "stdout",
       "text": [
        "Output file: Bdistachyon_MIPS_1_2.-0.02-0.5,0.5-0.05,0.005-.il.fq.gz\n",
        "Simulating 3000000 read pairs at mutation rate 0.05 for subgenome 0\n",
        "Simulating 3000000 read pairs at mutation rate 0.005 for subgenome 1\n"
       ]
      },
      {
       "output_type": "stream",
       "stream": "stderr",
       "text": [
        "[wgsim_core] calculating the total length of the reference sequence...\n",
        "[wgsim_core] 83 sequences, total length: 271923306\n",
        "[wgsim_core] calculating the total length of the reference sequence...\n",
        "[wgsim_core] 83 sequences, total length: 271923306\n"
       ]
      }
     ],
     "prompt_number": 70
    },
    {
     "cell_type": "code",
     "collapsed": false,
     "input": [
      "%%bash\n",
      "# Simulating diploid genome reads.\n",
      "# Same as above, except both genomes have the same polymorphism rate of 0.005\n",
      "\n",
      "export PATH=$PATH:\"/mnt/rescued_fast/kevin/ws/gbsqc/tools/seqqs/\":\"/usr/local/src/samtools/misc/\"\n",
      "cd diploid_sim/ \n",
      "\n",
      "../../brachy_khmer/scripts/sim_subgenomes.sh ../Bdistachyon_MIPS_1_2.fa.gz 6000000 100 0.02 \\\n",
      "                                          2 \\\n",
      "                                          0.5 0.5 \\\n",
      "                                          0.005 0.005"
     ],
     "language": "python",
     "metadata": {},
     "outputs": [
      {
       "output_type": "stream",
       "stream": "stdout",
       "text": [
        "Output file: Bdistachyon_MIPS_1_2.-0.02-0.5,0.5-0.005,0.005-.il.fq.gz\n",
        "Simulating 3000000 read pairs at mutation rate 0.005 for subgenome 0\n",
        "Simulating 3000000 read pairs at mutation rate 0.005 for subgenome 1\n"
       ]
      },
      {
       "output_type": "stream",
       "stream": "stderr",
       "text": [
        "[wgsim_core] calculating the total length of the reference sequence...\n",
        "[wgsim_core] 83 sequences, total length: 271923306\n",
        "[wgsim_core] calculating the total length of the reference sequence...\n",
        "[wgsim_core] 83 sequences, total length: 271923306\n"
       ]
      }
     ],
     "prompt_number": 71
    },
    {
     "cell_type": "heading",
     "level": 2,
     "metadata": {},
     "source": [
      "Hashing simulated data"
     ]
    },
    {
     "cell_type": "code",
     "collapsed": false,
     "input": [
      "%%bash\n",
      "\n",
      "# Hashing simulated polyploid reads at k=25 using wrapper script auto_hash_and_count.sh\n",
      "cd subgenome_sim/\n",
      "\n",
      "# (Simulated) .il.fq.gz file\n",
      "# 4 tables x 2e9 bytes = 8 Gb memory usage\n",
      "# k=25\n",
      "../../brachy_khmer/scripts/auto_hash_and_count.sh \\\n",
      "                                        Bdistachyon_MIPS_1_2.-0.02-0.5,0.5-0.05,0.005-.il.fq.gz \\\n",
      "                                        4 2e9 \\\n",
      "                                        25                                          "
     ],
     "language": "python",
     "metadata": {},
     "outputs": []
    },
    {
     "cell_type": "code",
     "collapsed": false,
     "input": [
      "%%bash\n",
      "\n",
      "# Hashing simulated diploid reads at k=25\n",
      "cd diploid_sim/ \n",
      "\n",
      "# Same parameters as above\n",
      "../../brachy_khmer/scripts/auto_hash_and_count.sh \\\n",
      "                                        Bdistachyon_MIPS_1_2.-0.02-0.5,0.5-0.05,0.05-.il.fq.gz \\\n",
      "                                        4 2e9 \\\n",
      "                                        25                                          "
     ],
     "language": "python",
     "metadata": {},
     "outputs": []
    },
    {
     "cell_type": "heading",
     "level": 2,
     "metadata": {},
     "source": [
      "Plotting simulated data"
     ]
    },
    {
     "cell_type": "code",
     "collapsed": false,
     "input": [
      "# Setting sequencing error rate to 0.00 during simulation (default 0.02) only smooths the spectra.\n"
     ],
     "language": "python",
     "metadata": {},
     "outputs": []
    },
    {
     "cell_type": "heading",
     "level": 2,
     "metadata": {},
     "source": [
      "Hashing and plotting real WGS data"
     ]
    },
    {
     "cell_type": "heading",
     "level": 2,
     "metadata": {},
     "source": [
      "Hashing real GBS data"
     ]
    },
    {
     "cell_type": "markdown",
     "metadata": {},
     "source": [
      "Compared to WGS data, there are additional considerations with GBS data:\n",
      "\n",
      "- Inherently lower coverage.\n",
      "- Reads are clustered around cut sites, not evenly distributed across the genome.\n",
      "    - Can result in repetitive sequences?\n",
      "- Only a subset of possible kmers is available.\n",
      "- PCR introduces error.\n",
      "    - Overall, the noise peak tends to be prominent.\n",
      "\n",
      "But:\n",
      "\n",
      "- GBS sample read sets are small.\n",
      "    - Samples hash quickly\n",
      "    - Samples can be hashed using relatively low and constant memory usage\n",
      "    \n",
      "We used two *Brachypodium* GBS datasets: bd1 (mostly diploid, according to Kevin) and bd6 (mostly hexaploid, according to Kevin).\n"
     ]
    },
    {
     "cell_type": "code",
     "collapsed": false,
     "input": [
      "%%bash\n",
      "# Hashing at k=25."
     ],
     "language": "python",
     "metadata": {},
     "outputs": []
    },
    {
     "cell_type": "heading",
     "level": 2,
     "metadata": {},
     "source": [
      "Finding high abundance 12-mers"
     ]
    },
    {
     "cell_type": "heading",
     "level": 2,
     "metadata": {},
     "source": [
      "Clustering GBS samples by kmer presence-absence"
     ]
    },
    {
     "cell_type": "heading",
     "level": 2,
     "metadata": {},
     "source": [
      "Source"
     ]
    },
    {
     "cell_type": "markdown",
     "metadata": {},
     "source": [
      "Work in progress at https://github.com/digitase/brachy_khmer"
     ]
    },
    {
     "cell_type": "heading",
     "level": 2,
     "metadata": {},
     "source": [
      "Acknowledgements"
     ]
    },
    {
     "cell_type": "markdown",
     "metadata": {},
     "source": [
      "- http://khmer.readthedocs.org/en/v1.1/scripts.html\n",
      "- Thanks to the Borevitz Lab, ANU esp. Kevin Murray"
     ]
    }
   ],
   "metadata": {}
  }
 ]
}