{
 "metadata": {
  "name": ""
 },
 "nbformat": 3,
 "nbformat_minor": 0,
 "worksheets": [
  {
   "cells": [
    {
     "cell_type": "code",
     "collapsed": false,
     "input": [
      "%%bash\n",
      "\n",
      "ls"
     ],
     "language": "python",
     "metadata": {},
     "outputs": [
      {
       "output_type": "stream",
       "stream": "stdout",
       "text": [
        "BroadInstitute - KmerSpectrumPrimer.pdf\n",
        "Chor 2009 Genomic DNA k-mer spectra.pdf\n",
        "Krasileva 2013 - Separating homeologs by phasing.pdf\n",
        "Liu 2013 Estimation of genomic characteristics.pdf\n",
        "Untitled0.ipynb\n",
        "Zhang_2014_These_are_not_the_k-mers_you_are_looking_for.pdf\n"
       ]
      }
     ],
     "prompt_number": 4
    },
    {
     "cell_type": "markdown",
     "metadata": {},
     "source": [
      "The daskjfalsdjfajsdlkfjaskdf\n",
      "\n"
     ]
    },
    {
     "cell_type": "code",
     "collapsed": false,
     "input": [],
     "language": "python",
     "metadata": {},
     "outputs": []
    }
   ],
   "metadata": {}
  }
 ]
}