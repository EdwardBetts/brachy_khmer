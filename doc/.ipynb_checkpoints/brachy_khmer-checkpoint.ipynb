{
 "metadata": {
  "name": "",
  "signature": "sha256:a54c04aaa27844502ee46c7c488d60380bd049616fe73dfe05e5ba697f0cd10a"
 },
 "nbformat": 3,
 "nbformat_minor": 0,
 "worksheets": [
  {
   "cells": [
    {
     "cell_type": "heading",
     "level": 1,
     "metadata": {},
     "source": [
      "Exploring K-mer hashing in *Brachypodium* "
     ]
    },
    {
     "cell_type": "heading",
     "level": 2,
     "metadata": {},
     "source": [
      "Introduction"
     ]
    },
    {
     "cell_type": "markdown",
     "metadata": {},
     "source": [
      "- Exploring read-level clustering of *Brachypodium* using properties of the kmer distribution.\n",
      "- Experimental design should account for the range of input genetic diversity. Extremely distant samples may be incomparable.\n",
      "- Can we distinguish technical replicates?\n",
      "- Useful where SNP-based methods suffer from missing data/reference sequences.\n",
      "- We can look for similarities at the read-level rather than differences at the haplotypic level."
     ]
    },
    {
     "cell_type": "heading",
     "level": 2,
     "metadata": {},
     "source": [
      "Check dependencies"
     ]
    },
    {
     "cell_type": "markdown",
     "metadata": {},
     "source": [
      "- python 2.x (developed on 2.7.6)\n",
      "- R 3.0+ (developed on 3.1.0)\n",
      "- khmer 1.2+ (developed on 1.2-rc2-6-gc5dee21)\n",
      "- wgsim (developed on 0.3.0, from samtools library)\n",
      "- pairs (from the seqqs library)"
     ]
    },
    {
     "cell_type": "code",
     "collapsed": false,
     "input": [
      "%%bash\n",
      "\n",
      "which R\n",
      "which python\n",
      "\n",
      "# Locations on percy.anu.edu.au\n",
      "# export PATH=$PATH:\"/mnt/rescued_fast/kevin/ws/gbsqc/tools/seqqs/\":\"/usr/local/src/samtools/misc/\"\n",
      "which wgsim\n",
      "which pairs\n",
      "\n",
      "# IPython notebook should be started within a virtual environment.\n",
      "# After \"workon <virtual_env>\", check dependencies:\n",
      "pip freeze"
     ],
     "language": "python",
     "metadata": {},
     "outputs": [
      {
       "output_type": "stream",
       "stream": "stdout",
       "text": [
        "/usr/bin/R\n",
        "/home/ben/.virtualenvs/khmer/bin/python\n",
        "/home/ben/bin/wgsim\n",
        "/home/ben/bin/pairs\n",
        "argparse==1.2.1\n",
        "khmer==1.2-rc2-6-gc5dee21\n",
        "matplotlib==1.4.0\n",
        "mock==1.0.1\n",
        "nose==1.3.4\n",
        "numpy==1.9.0\n",
        "pyparsing==2.0.3\n",
        "python-dateutil==2.2\n",
        "screed==0.7.1\n",
        "six==1.8.0\n",
        "wsgiref==0.1.2\n"
       ]
      }
     ],
     "prompt_number": 1
    },
    {
     "cell_type": "heading",
     "level": 2,
     "metadata": {},
     "source": [
      "Workflow demo"
     ]
    },
    {
     "cell_type": "code",
     "collapsed": false,
     "input": [
      "!mkdir _tmp_dir\n",
      "%cd _tmp_dir"
     ],
     "language": "python",
     "metadata": {},
     "outputs": [
      {
       "output_type": "stream",
       "stream": "stdout",
       "text": [
        "/home/ben/brachy_khmer/doc/_tmp_dir\n"
       ]
      }
     ],
     "prompt_number": 2
    },
    {
     "cell_type": "code",
     "collapsed": false,
     "input": [
      "# Make sure we are working in <download_path>/brachy_khmer/doc/_tmp_dir at this point!\n",
      "!pwd"
     ],
     "language": "python",
     "metadata": {},
     "outputs": [
      {
       "output_type": "stream",
       "stream": "stdout",
       "text": [
        "/home/ben/brachy_khmer/doc/_tmp_dir\r\n"
       ]
      }
     ],
     "prompt_number": 3
    },
    {
     "cell_type": "heading",
     "level": 3,
     "metadata": {},
     "source": [
      "Generating a reference genome"
     ]
    },
    {
     "cell_type": "code",
     "collapsed": false,
     "input": [
      "# Generate a pseudorandom reference sequence\n",
      "import random\n",
      "random.seed(42)\n",
      "\n",
      "seq_file = \"test_ref42.fa\"\n",
      "N = 5000\n",
      "rand_seq = \"\".join([random.choice(\"ATCG\") for i in range(N)])\n",
      "\n",
      "with open(seq_file, \"w\") as outfile:\n",
      "    outfile.write(\">seq1_len%d_seed42\\n\" % N)\n",
      "    # Wrap to line length\n",
      "    line_len = 80\n",
      "    split_seq = \"\\n\".join([rand_seq[i:i+line_len] for i in range(0, N, line_len)])\n",
      "    outfile.write(split_seq)\n",
      "\n",
      "# Reread and check length\n",
      "!head \"$seq_file\"\n",
      "x = !tail -n +2 \"$seq_file\"\n",
      "assert(len(\"\".join(x)) == N)\n",
      "\n",
      "# Compress it\n",
      "!gzip -vf \"$seq_file\""
     ],
     "language": "python",
     "metadata": {},
     "outputs": [
      {
       "output_type": "stream",
       "stream": "stdout",
       "text": [
        ">seq1_len5000_seed42\r\n",
        "CATACCGATAACAACCACGAGCTAGTAAGCGCCGTCGCGCCAATAAATCTTATGCCACATGCCCGGAATTAGGTCTGTTA\r\n",
        "CTCGTAGCAAACGTATGCGGACCCTCATTGGTCAGGTCCAGCGCATAGGGTAGGATAGGATCTGTACCATGCTCAATCAA\r\n",
        "ACAGGAACAAGCTGGAATTTCCGATTGAATTTAGTGCAGGGGGATATATGTGTTGGCCATGCCCACCGAGAACCAAGACC\r\n",
        "TCCGACATCTTGATGGAATGGGTAGCCGCAGTCGAAACTCCACTTGGATTAGCTCCTAAGGCGCAATGGGGAAAGGTCAG\r\n",
        "GGGGACTGGGGTGAGGAGTTGAAATGGTCTGCGAGAGTATCTCCTCTCAGCCCCTACTTGCTTTTTATGCGCTCATTCCT\r\n",
        "TATGGAACCTGGCAAAATGATCACTACAGGATAGCAAGTGCGCGGCCCGCGCTTACGCCTATTTCAACCATCTATGCCGG\r\n",
        "TATGGGTCCCAATATCTATACATCACATATATGTGGTAACGTCGCGGAAAACCACGACCAGGAATCGTCACCAGGCAGGT\r\n",
        "TTCTGGAGCGCTCGTGCTTCTGGAGATCTAGAAGTGCTAGACTGCCTGAACTCTCTCTCTTAAACGAATCGCTAAAAACT\r\n",
        "GCCAGTGCTTAAGTGTACAACTGAGCGACTTGGTCCCGAACAAAATCTACCTCGGCCGTCCGGAATCCTACCGCTAATTT\r\n"
       ]
      },
      {
       "output_type": "stream",
       "stream": "stdout",
       "text": [
        "test_ref42.fa:\t 65.6% -- replaced with test_ref42.fa.gz\r\n"
       ]
      }
     ],
     "prompt_number": 4
    },
    {
     "cell_type": "heading",
     "level": 3,
     "metadata": {},
     "source": [
      "Simulating whole genome sequencing (WGS) reads with wgsim"
     ]
    },
    {
     "cell_type": "code",
     "collapsed": false,
     "input": [
      "# haplotype mode: no heterozygosity. All mutations are applied to one copy of the genome, and all reads are drawn from that copy.\n",
      "!wgsim"
     ],
     "language": "python",
     "metadata": {},
     "outputs": [
      {
       "output_type": "stream",
       "stream": "stdout",
       "text": [
        "\r\n",
        "Program: wgsim (short read simulator)\r\n",
        "Version: 0.3.0\r\n",
        "Contact: Heng Li <lh3@sanger.ac.uk>\r\n",
        "\r\n",
        "Usage:   wgsim [options] <in.ref.fa> <out.read1.fq> <out.read2.fq>\r\n",
        "\r\n",
        "Options: -e FLOAT      base error rate [0.020]\r\n",
        "         -d INT        outer distance between the two ends [500]\r\n",
        "         -s INT        standard deviation [50]\r\n",
        "         -N INT        number of read pairs [1000000]\r\n",
        "         -1 INT        length of the first read [70]\r\n",
        "         -2 INT        length of the second read [70]\r\n",
        "         -r FLOAT      rate of mutations [0.0010]\r\n",
        "         -R FLOAT      fraction of indels [0.15]\r\n",
        "         -X FLOAT      probability an indel is extended [0.30]\r\n",
        "         -S INT        seed for random generator [-1]\r\n",
        "         -h            haplotype mode\r\n",
        "\r\n"
       ]
      }
     ],
     "prompt_number": 5
    },
    {
     "cell_type": "code",
     "collapsed": false,
     "input": [
      "%%bash\n",
      "\n",
      "# Simulate 1000 read pairs of 100 bp reads at the default mutation and sequencing error rates.\n",
      "wgsim -N 1000 -1 100 -2 100 -S 42 test_ref42.fa.gz test_reads42.r1.fq test_reads42.r2.fq\n",
      "\n",
      "# Now we interleave the read pairs.\n",
      "pairs join test_reads42.r1.fq test_reads42.r2.fq | gzip -f > test_reads42.il.fq.gz"
     ],
     "language": "python",
     "metadata": {},
     "outputs": [
      {
       "output_type": "stream",
       "stream": "stdout",
       "text": [
        "seq1_len5000_seed42\t1356\tA\tW\t+\n",
        "seq1_len5000_seed42\t4918\tG\tK\t+\n"
       ]
      },
      {
       "output_type": "stream",
       "stream": "stderr",
       "text": [
        "[wgsim_core] calculating the total length of the reference sequence...\n",
        "[wgsim_core] 1 sequences, total length: 5000\n"
       ]
      }
     ],
     "prompt_number": 6
    },
    {
     "cell_type": "code",
     "collapsed": false,
     "input": [
      "# Here is the first pair of reads\n",
      "!zcat test_reads42.il.fq.gz | head -n 8"
     ],
     "language": "python",
     "metadata": {},
     "outputs": [
      {
       "output_type": "stream",
       "stream": "stdout",
       "text": [
        "@seq1_len5000_seed42_2116_2664_1:0:0_2:0:0_0/1\r\n",
        "GGTGCGAGCTGAAGGTGAGGGCTTATTCCCGAGCTCCCGTATACCTAGGGAGCGCGGGTATCCAGCTTCGATGGAGTGTCTCCTCATGATTACCGTGTTA\r\n",
        "+\r\n",
        "2222222222222222222222222222222222222222222222222222222222222222222222222222222222222222222222222222\r\n",
        "@seq1_len5000_seed42_2116_2664_1:0:0_2:0:0_0/2\r\n",
        "CCCTTACACTGAGCGGAAAACGTTTTCGACGCGGATCAAATTGCGACAAGGTAAGGCAGTGCGCTAAAGTGTGAGCCGATGTGGTGATGTTGACCACGCA\r\n",
        "+\r\n",
        "2222222222222222222222222222222222222222222222222222222222222222222222222222222222222222222222222222\r\n",
        "\r\n",
        "gzip: stdout: Broken pipe\r\n"
       ]
      }
     ],
     "prompt_number": 7
    },
    {
     "cell_type": "heading",
     "level": 3,
     "metadata": {},
     "source": [
      "Hashing with khmer"
     ]
    },
    {
     "cell_type": "code",
     "collapsed": false,
     "input": [
      "# Step 1.\n",
      "# Hashes kmers in the reads file using a Count\u2013min sketch [TODO ref the paper].\n",
      "# Output is a binary kmer hash table with fixed size rougly equal to N_TABLES * MIN_TABLESIZE bytes.\n",
      "!load-into-counting.py"
     ],
     "language": "python",
     "metadata": {},
     "outputs": [
      {
       "output_type": "stream",
       "stream": "stdout",
       "text": [
        "\r\n",
        "|| This is the script 'load-into-counting.py' in khmer.\r\n",
        "|| You are running khmer version 1.2-rc2-6-gc5dee21\r\n",
        "|| You are also using screed version 0.7\r\n",
        "||\r\n",
        "|| If you use this script in a publication, please cite EACH of the following:\r\n",
        "||\r\n",
        "||   * MR Crusoe et al., 2014. doi: 10.6084/m9.figshare.979190\r\n",
        "||   * Q Zhang et al., arXiv:1309.2975 [q-bio.GN]\r\n",
        "||\r\n",
        "|| Please see http://khmer.readthedocs.org/en/latest/citations.html for details.\r\n",
        "\r\n",
        "usage: load-into-counting.py [-h] [--version] [-q] [--ksize KSIZE] [--n_tables N_TABLES] [--min-tablesize MIN_TABLESIZE] [--threads N_THREADS] [-b]\r\n",
        "                             [--report-total-kmers]\r\n",
        "                             output_countingtable_filename input_sequence_filename [input_sequence_filename ...]\r\n",
        "load-into-counting.py: error: too few arguments\r\n"
       ]
      }
     ],
     "prompt_number": 8
    },
    {
     "cell_type": "code",
     "collapsed": false,
     "input": [
      "# Step 2.\n",
      "# Counts abundance of kmers in hash table.\n",
      "# Output is a kmer abundance-frequency table in text format.\n",
      "!abundance-dist.py"
     ],
     "language": "python",
     "metadata": {},
     "outputs": [
      {
       "output_type": "stream",
       "stream": "stdout",
       "text": [
        "\r\n",
        "|| This is the script 'abundance-dist.py' in khmer.\r\n",
        "|| You are running khmer version 1.2-rc2-6-gc5dee21\r\n",
        "|| You are also using screed version 0.7\r\n",
        "||\r\n",
        "|| If you use this script in a publication, please cite EACH of the following:\r\n",
        "||\r\n",
        "||   * MR Crusoe et al., 2014. doi: 10.6084/m9.figshare.979190\r\n",
        "||   * Q Zhang et al., arXiv:1309.2975 [q-bio.GN]\r\n",
        "||\r\n",
        "|| Please see http://khmer.readthedocs.org/en/latest/citations.html for details.\r\n",
        "\r\n",
        "usage: abundance-dist.py [-h] [-z] [-s] [--version] input_counting_table_filename input_sequence_filename output_histogram_filename\r\n",
        "abundance-dist.py: error: too few arguments\r\n"
       ]
      }
     ],
     "prompt_number": 9
    },
    {
     "cell_type": "code",
     "collapsed": false,
     "input": [
      "%%bash\n",
      "# Let's get into hashing.\n",
      "\n",
      "# Parameters:\n",
      "#     kmer length\n",
      "#     Number of hash tables: each table has a different offset so that collisions can be resolved\n",
      "#     Size of each table: the larger the tables, the lower the collision chance\n",
      "#     Output filename\n",
      "#     Input interleaved FASTQ\n",
      "load-into-counting.py --ksize 25 --n_tables 4 --min-tablesize 1e4 test_reads42.k25.htable test_reads42.il.fq.gz\n",
      "\n",
      "# Notice the high false positive (fp) rate and the error:\n",
      "#     fp rate estimated to be 0.994\n",
      "#     ** ERROR: the k-mer counting table is too small this data set.  Increase tablesize/# tables.\n",
      "# This is because we are only allocating 40 KB memory per table, which is far too low for the number of reads."
     ],
     "language": "python",
     "metadata": {},
     "outputs": [
      {
       "output_type": "stream",
       "stream": "stdout",
       "text": [
        "Saving k-mer counting table to test_reads42.k25.htable\n",
        "Loading kmers from sequences in ['test_reads42.il.fq.gz']\n",
        "making k-mer counting table\n",
        "consuming input test_reads42.il.fq.gz\n",
        "saving test_reads42.k25.htable\n",
        "fp rate estimated to be 0.994\n"
       ]
      },
      {
       "output_type": "stream",
       "stream": "stderr",
       "text": [
        "\n",
        "|| This is the script 'load-into-counting.py' in khmer.\n",
        "|| You are running khmer version 1.2-rc2-6-gc5dee21\n",
        "|| You are also using screed version 0.7\n",
        "||\n",
        "|| If you use this script in a publication, please cite EACH of the following:\n",
        "||\n",
        "||   * MR Crusoe et al., 2014. doi: 10.6084/m9.figshare.979190\n",
        "||   * Q Zhang et al., arXiv:1309.2975 [q-bio.GN]\n",
        "||\n",
        "|| Please see http://khmer.readthedocs.org/en/latest/citations.html for details.\n",
        "\n",
        "\n",
        "PARAMETERS:\n",
        " - kmer size =    25 \t\t(-k)\n",
        " - n tables =     4 \t\t(-N)\n",
        " - min tablesize = 1e+04 \t(-x)\n",
        "\n",
        "Estimated memory usage is 4e+04 bytes (n_tables x min_tablesize)\n",
        "--------\n",
        "**\n",
        "** ERROR: the k-mer counting table is too small this data set.  Increase tablesize/# tables.\n",
        "**\n"
       ]
      }
     ],
     "prompt_number": 10
    },
    {
     "cell_type": "code",
     "collapsed": false,
     "input": [
      "%%bash\n",
      "\n",
      "# Increasing the paramters such that we now allocate 8 tables of 100 KB each:\n",
      "#    fp rate estimated to be 0.002\n",
      "\n",
      "# For a real dataset, determining the required table size is not trivial, as it depends on the number of unique kmers in your reads, \n",
      "# which in turn depends on the number of reads, polymorphism rate etc.\n",
      "\n",
      "# The official instruction from http://khmer.readthedocs.org/en/v1.0/choosing-table-sizes.html\n",
      "# is to use as much memory as you have available.\n",
      "# A good fp rate is well below 1%.\n",
      "load-into-counting.py --ksize 25 --n_tables 8 --min-tablesize 1e5 test_reads42.k25.htable test_reads42.il.fq.gz"
     ],
     "language": "python",
     "metadata": {},
     "outputs": [
      {
       "output_type": "stream",
       "stream": "stdout",
       "text": [
        "Saving k-mer counting table to test_reads42.k25.htable\n",
        "Loading kmers from sequences in ['test_reads42.il.fq.gz']\n",
        "making k-mer counting table\n",
        "consuming input test_reads42.il.fq.gz\n",
        "saving test_reads42.k25.htable\n",
        "fp rate estimated to be 0.002\n",
        "DONE.\n",
        "wrote to: test_reads42.k25.htable.info\n"
       ]
      },
      {
       "output_type": "stream",
       "stream": "stderr",
       "text": [
        "\n",
        "|| This is the script 'load-into-counting.py' in khmer.\n",
        "|| You are running khmer version 1.2-rc2-6-gc5dee21\n",
        "|| You are also using screed version 0.7\n",
        "||\n",
        "|| If you use this script in a publication, please cite EACH of the following:\n",
        "||\n",
        "||   * MR Crusoe et al., 2014. doi: 10.6084/m9.figshare.979190\n",
        "||   * Q Zhang et al., arXiv:1309.2975 [q-bio.GN]\n",
        "||\n",
        "|| Please see http://khmer.readthedocs.org/en/latest/citations.html for details.\n",
        "\n",
        "\n",
        "PARAMETERS:\n",
        " - kmer size =    25 \t\t(-k)\n",
        " - n tables =     8 \t\t(-N)\n",
        " - min tablesize = 1e+05 \t(-x)\n",
        "\n",
        "Estimated memory usage is 8e+05 bytes (n_tables x min_tablesize)\n",
        "--------\n"
       ]
      }
     ],
     "prompt_number": 11
    },
    {
     "cell_type": "code",
     "collapsed": false,
     "input": [
      "%%bash\n",
      "\n",
      "# Generate abundance frequency table\n",
      "abundance-dist.py --no-zero --squash test_reads42.k25.htable test_reads42.il.fq.gz test_reads42.k25.hist"
     ],
     "language": "python",
     "metadata": {},
     "outputs": [
      {
       "output_type": "stream",
       "stream": "stdout",
       "text": [
        "hashtable from test_reads42.k25.htable\n",
        "K: 25\n",
        "HT sizes: [100003L, 100019L, 100043L, 100049L, 100057L, 100069L, 100103L, 100109L]\n",
        "outputting to test_reads42.k25.hist\n",
        "preparing hist...\n"
       ]
      },
      {
       "output_type": "stream",
       "stream": "stderr",
       "text": [
        "\n",
        "|| This is the script 'abundance-dist.py' in khmer.\n",
        "|| You are running khmer version 1.2-rc2-6-gc5dee21\n",
        "|| You are also using screed version 0.7\n",
        "||\n",
        "|| If you use this script in a publication, please cite EACH of the following:\n",
        "||\n",
        "||   * MR Crusoe et al., 2014. doi: 10.6084/m9.figshare.979190\n",
        "||   * Q Zhang et al., arXiv:1309.2975 [q-bio.GN]\n",
        "||\n",
        "|| Please see http://khmer.readthedocs.org/en/latest/citations.html for details.\n",
        "\n"
       ]
      }
     ],
     "prompt_number": 12
    },
    {
     "cell_type": "code",
     "collapsed": false,
     "input": [
      "%%bash\n",
      "\n",
      "# Columns in the output are:\n",
      "#     kmer abundance\n",
      "#     freq of kmers at that abundance count\n",
      "#     cumulative abundance\n",
      "#     cumulative fraction of total distinct k-mers.\n",
      "head test_reads42.k25.hist"
     ],
     "language": "python",
     "metadata": {},
     "outputs": [
      {
       "output_type": "stream",
       "stream": "stdout",
       "text": [
        "1 50449 50449 0.848\n",
        "2 3831 54280 0.912\n",
        "3 293 54573 0.917\n",
        "4 29 54602 0.918\n",
        "5 23 54625 0.918\n",
        "6 21 54646 0.918\n",
        "7 50 54696 0.919\n",
        "8 54 54750 0.92\n",
        "9 95 54845 0.922\n",
        "10 156 55001 0.924\n"
       ]
      }
     ],
     "prompt_number": 13
    },
    {
     "cell_type": "code",
     "collapsed": false,
     "input": [
      "# Plotting freq against abundance to produce the kmer spectra, \n",
      "# using a wrapper script to set axis limits\n",
      "!python ../../scripts/plot_hist.py test_reads42.k25.hist 40 5\n",
      "\n",
      "from IPython.core.display import Image, display\n",
      "Image(filename=\"test_reads42.k25.png\") \n",
      "\n",
      "# We can see the characteristic shape of a kmer spectrum of a random genome:\n",
      "#    Poisson distribution for main mode\n",
      "#    Low abundance error peak\n",
      "# The curve is rough due to low read count, hence low coverage."
     ],
     "language": "python",
     "metadata": {},
     "outputs": [
      {
       "metadata": {},
       "output_type": "pyout",
       "png": "[encoded data removed]",
       "prompt_number": 16,
       "text": [
        "<IPython.core.display.Image at 0x7f71e841bbd0>"
       ]
      }
     ],
     "prompt_number": 16
    },
    {
     "cell_type": "code",
     "collapsed": false,
     "input": [
      "# All coverage values in Velvet are provided in k-mer coverage, \n",
      "# i.e. how many times has a k-mer been seen among the reads. \n",
      "# The relation between k-mer coverage Ck and standard (nucleotide-wise) coverage C is \n",
      "# Ck = C * (L - k + 1) / L \n",
      "# where k is your hash length, and L you read length. \n",
      "# http://dna.med.monash.edu.au/~torsten/velvet_advisor/\n",
      "\n",
      "def get_estimated_coverage(num_read_pairs, genome_len, L=100, k=25):\n",
      "    C  = num_read_pairs * 100 * 2 / genome_len\n",
      "    Ck = C*(L - k + 1) / L\n",
      "    return C, Ck\n",
      "\n",
      "print get_estimated_coverage(num_read_pairs=1000, genome_len=5000)"
     ],
     "language": "python",
     "metadata": {},
     "outputs": [
      {
       "output_type": "stream",
       "stream": "stdout",
       "text": [
        "(40, 30)\n"
       ]
      }
     ],
     "prompt_number": 17
    },
    {
     "cell_type": "heading",
     "level": 2,
     "metadata": {},
     "source": [
      "Simulating WGS data with subgenomes\n",
      "\n"
     ]
    },
    {
     "cell_type": "markdown",
     "metadata": {},
     "source": [
      "We simulate sequencing data from genomes with different characteristics to see if we can detect a subgenome signal."
     ]
    },
    {
     "cell_type": "code",
     "collapsed": false,
     "input": [
      "# Get a Brachy reference genome\n",
      "!wget -nv https://www.dropbox.com/s/k8dnqk78rrpazmz/Bdistachyon_MIPS_1_2.fa.gz?dl=0 -O Bdistachyon_MIPS_1_2.fa.gz"
     ],
     "language": "python",
     "metadata": {},
     "outputs": [
      {
       "output_type": "stream",
       "stream": "stdout",
       "text": [
        "2014-10-30 01:45:49 URL:https://dl.dropboxusercontent.com/content_link/VRuGgHtOJsVcvwYGNf3BBl9JRaRfamsXh9ieCxqN7WXsDWYbs9eCmCtcK1rcKEEn [82614448/82614448] -> \"Bdistachyon_MIPS_1_2.fa.gz\" [1]\r\n"
       ]
      }
     ],
     "prompt_number": 18
    },
    {
     "cell_type": "code",
     "collapsed": false,
     "input": [
      "%%bash\n",
      "# Simulating reads from a polyploid genome with a subgenome with different mutation rate.\n",
      "\n",
      "# sim_subgenomes.sh is is a wrapper script that uses wgsim\n",
      "# Simulates 2.5M reads at a polymorphism rate of 0.005 (1/200), then simulates 2.5M reads at a polymorphism rate of 0.05 and merges.\n",
      "\n",
      "# Parameters:\n",
      "#     Reference file .fa.gz\n",
      "#     Total number of read pairs and read length\n",
      "#     Sequencing error rate\n",
      "#     Number of subgenomes\n",
      "#     Respective proportion of reads from each subgenome\n",
      "#     Respective polymorphism rates\n",
      "../../scripts/sim_subgenomes.sh Bdistachyon_MIPS_1_2.fa.gz \\\n",
      "                                                5000000 100 \\\n",
      "                                                0.02 \\\n",
      "                                                2 \\\n",
      "                                                0.5 0.5 \\\n",
      "                                                0.05 0.005"
     ],
     "language": "python",
     "metadata": {},
     "outputs": [
      {
       "output_type": "stream",
       "stream": "stdout",
       "text": [
        "Output file: Bdistachyon_MIPS_1_2.-0.02-0.5,0.5-0.05,0.005-.il.fq.gz\n",
        "Simulating 2500000 read pairs at mutation rate 0.05 for subgenome 0\n",
        "Simulating 2500000 read pairs at mutation rate 0.005 for subgenome 1\n"
       ]
      },
      {
       "output_type": "stream",
       "stream": "stderr",
       "text": [
        "[wgsim_core] calculating the total length of the reference sequence...\n",
        "[wgsim_core] 83 sequences, total length: 271923306\n",
        "[wgsim_core] calculating the total length of the reference sequence...\n",
        "[wgsim_core] 83 sequences, total length: 271923306\n"
       ]
      }
     ],
     "prompt_number": 19
    },
    {
     "cell_type": "code",
     "collapsed": false,
     "input": [
      "%%bash\n",
      "# Simulating diploid genome reads.\n",
      "# Same as above, except both genomes have the same polymorphism rate of 0.005\n",
      "\n",
      "../../scripts/sim_subgenomes.sh Bdistachyon_MIPS_1_2.fa.gz \\\n",
      "                                                5000000 100 \\\n",
      "                                                0.02 \\\n",
      "                                                2 \\\n",
      "                                                0.5 0.5 \\\n",
      "                                                0.005 0.005"
     ],
     "language": "python",
     "metadata": {},
     "outputs": [
      {
       "output_type": "stream",
       "stream": "stdout",
       "text": [
        "Output file: Bdistachyon_MIPS_1_2.-0.02-0.5,0.5-0.005,0.005-.il.fq.gz\n",
        "Simulating 2500000 read pairs at mutation rate 0.005 for subgenome 0\n",
        "Simulating 2500000 read pairs at mutation rate 0.005 for subgenome 1\n"
       ]
      },
      {
       "output_type": "stream",
       "stream": "stderr",
       "text": [
        "[wgsim_core] calculating the total length of the reference sequence...\n",
        "[wgsim_core] 83 sequences, total length: 271923306\n",
        "[wgsim_core] calculating the total length of the reference sequence...\n",
        "[wgsim_core] 83 sequences, total length: 271923306\n"
       ]
      }
     ]
    },
    {
     "cell_type": "heading",
     "level": 2,
     "metadata": {},
     "source": [
      "Hashing simulated data"
     ]
    },
    {
     "cell_type": "code",
     "collapsed": false,
     "input": [
      "%%bash\n",
      "\n",
      "# Hashing simulated polyploid reads at k=25 using wrapper script auto_hash_and_count.sh\n",
      "\n",
      "# (Simulated) .il.fq.gz file\n",
      "# 4 tables x 2e9 bytes = 8 Gb memory usage\n",
      "# k=25\n",
      "../../scripts/auto_hash_and_count.sh Bdistachyon_MIPS_1_2.-0.02-0.5,0.5-0.05,0.005-.il.fq.gz \\\n",
      "                                        4 2e9 \\\n",
      "                                        25                                          "
     ],
     "language": "python",
     "metadata": {},
     "outputs": []
    },
    {
     "cell_type": "code",
     "collapsed": false,
     "input": [
      "!cat Bdistachyon_MIPS_1_2.-0.02-0.5,0.5-0.05,0.005-.k25.htable.info"
     ],
     "language": "python",
     "metadata": {},
     "outputs": []
    },
    {
     "cell_type": "code",
     "collapsed": false,
     "input": [
      "%%bash\n",
      "\n",
      "# Hashing simulated diploid reads at k=25\n",
      "\n",
      "# Same parameters as above\n",
      "../../scripts/auto_hash_and_count.sh Bdistachyon_MIPS_1_2.-0.02-0.5,0.5-0.005,0.005-.il.fq.gz \\\n",
      "                                        4 2e9 \\\n",
      "                                        25                                          "
     ],
     "language": "python",
     "metadata": {},
     "outputs": []
    },
    {
     "cell_type": "code",
     "collapsed": false,
     "input": [
      "!cat Bdistachyon_MIPS_1_2.-0.02-0.5,0.5-0.005,0.005-.k25.htable.info"
     ],
     "language": "python",
     "metadata": {},
     "outputs": []
    },
    {
     "cell_type": "heading",
     "level": 2,
     "metadata": {},
     "source": [
      "Plotting simulated data"
     ]
    },
    {
     "cell_type": "code",
     "collapsed": false,
     "input": [
      "# Diploid (top), subgenomed (bottom)\n",
      "# Play around with different axis limits\n",
      "!python ../../scripts/plot_hist.py Bdistachyon_MIPS_1_2.-0.02-0.5,0.5-0.005,0.005-.k25.hist 1000 10\n",
      "!python ../../scripts/plot_hist.py Bdistachyon_MIPS_1_2.-0.02-0.5,0.5-0.05,0.005-.k25.hist 1000 10\n",
      "display(Image(filename=\"Bdistachyon_MIPS_1_2.-0.02-0.5,0.5-0.005,0.005-.k25.png\"), \n",
      "        Image(filename=\"Bdistachyon_MIPS_1_2.-0.02-0.5,0.5-0.05,0.005-.k25.png\"))"
     ],
     "language": "python",
     "metadata": {},
     "outputs": []
    },
    {
     "cell_type": "code",
     "collapsed": false,
     "input": [
      "# Calculate expected cov.\n",
      "lm = !zcat Bdistachyon_MIPS_1_2.fa.gz | grep -v '^>' | wc -lm\n",
      "genome_len = int(lm[0].split()[1]) - int(lm[0].split()[0])\n",
      "\n",
      "print genome_len\n",
      "print get_estimated_coverage(num_read_pairs=6e6, genome_len=genome_len)"
     ],
     "language": "python",
     "metadata": {},
     "outputs": []
    },
    {
     "cell_type": "code",
     "collapsed": false,
     "input": [
      "%%bash\n",
      "# Does sequencing error obscure signal?\n",
      "# Setting sequencing error rate to 0.00 during simulation (default 0.02) only smooths the spectra.\n",
      "\n",
      "../../scripts/sim_subgenomes.sh Bdistachyon_MIPS_1_2.fa.gz \\\n",
      "                                                5000000 100 \\\n",
      "                                                0.00 \\\n",
      "                                                2 \\\n",
      "                                                0.5 0.5 \\\n",
      "                                                0.05 0.005\n",
      "\n",
      "# Same parameters as above\n",
      "../../scripts/auto_hash_and_count.sh Bdistachyon_MIPS_1_2.-0.00-0.5,0.5-0.05,0.005-.il.fq.gz \\\n",
      "                                        4 2e9 \\\n",
      "                                        25        "
     ],
     "language": "python",
     "metadata": {},
     "outputs": []
    },
    {
     "cell_type": "code",
     "collapsed": false,
     "input": [
      "!python ../../scripts/plot_hist.py Bdistachyon_MIPS_1_2.-0.00-0.5,0.5-0.05,0.005-.k25.hist 1000 10\n",
      "\n",
      "# subgenomed with 0.02 seq error (top), subgenomed with no seq error (bottom)\n",
      "Image(filename=\"Bdistachyon_MIPS_1_2.-0.00-0.5,0.5-0.05,0.005-.k25.png\")"
     ],
     "language": "python",
     "metadata": {},
     "outputs": []
    },
    {
     "cell_type": "heading",
     "level": 3,
     "metadata": {},
     "source": [
      "Considerations"
     ]
    },
    {
     "cell_type": "markdown",
     "metadata": {},
     "source": [
      "- Varying the subgenome mutation rate?\n",
      "- Is this a correct way of simulating polyploidy?"
     ]
    },
    {
     "cell_type": "heading",
     "level": 2,
     "metadata": {},
     "source": [
      "Results from real demultiplexed WGS data"
     ]
    },
    {
     "cell_type": "code",
     "collapsed": false,
     "input": [
      "%cd ../test_data"
     ],
     "language": "python",
     "metadata": {},
     "outputs": []
    },
    {
     "cell_type": "code",
     "collapsed": false,
     "input": [
      "# Bdis05 WGS reads\n",
      "# 9.7 M read pairs\n",
      "print get_estimated_coverage(num_read_pairs=9.7e6, genome_len=genome_len)\n",
      "\n",
      "# Peaks are repetitive? mt/chloroplast?\n",
      "# genome (nuclear) signal in left peak?\n",
      "# diploid\n",
      "\n",
      "# We also hashed a hexaploid whole genome data set from the Vogel lab. \n",
      "# Approx. 6M read pairs.\n",
      "\n",
      "# Possibly Brachypodium hybridum ABR113?\n",
      "# http://aob.oxfordjournals.org/content/early/2012/01/01/aob.mcr294.full\n",
      "# Allotetraploid with 2n = 30 chromosomes (x = 10 + x = 5), derived from the cross between B. stacei and B. distachyon. \n",
      "# Genome size of 1.265 pg/2C. => 978 Mb\n",
      "print get_estimated_coverage(num_read_pairs=6e6, genome_len=1.265*978e6/2)\n",
      "# Contains both relatively small B. stacei-type and large B. distachyon-type chromosomes. \n",
      "# The name hybridum refers to its hybrid allotetraploid nature. \n",
      "\n",
      "!python ../../scripts/plot_hist.py ../test_data/bdis05/Bdis05-1_qcd.k25.hist 4000 10\n",
      "!python ../../scripts/plot_hist.py ../test_data/vogel_hexaploids/7424.2.73049.ACAGTG.k25.hist 4000 10\n",
      "\n",
      "display(Image(filename=\"../test_data/Bdis05-1_qcd.k25.png\"), \n",
      "        Image(filename=\"../test_data/7424.2.73049.ACAGTG.k25.png\"))\n",
      "\n",
      "# With such low coverage, peaks at high abundance are likely to be organelle DNA/simple repeats."
     ],
     "language": "python",
     "metadata": {},
     "outputs": []
    },
    {
     "cell_type": "heading",
     "level": 2,
     "metadata": {},
     "source": [
      "Results from real GBS data"
     ]
    },
    {
     "cell_type": "markdown",
     "metadata": {},
     "source": [
      "Compared to WGS data, there are additional considerations with GBS data:\n",
      "\n",
      "- Inherently lower coverage, even compared to multiplexed samples.\n",
      "- Reads are clustered around cut sites, not evenly distributed across the genome.\n",
      "    - Can result in repetitive sequences?\n",
      "    - Excludes organelle DNA?\n",
      "- Only a subset of possible kmers is available.\n",
      "- PCR introduces error.\n",
      "    - Overall, the noise peak tends to be prominent.\n",
      "\n",
      "But:\n",
      "\n",
      "- GBS sample read sets are small.\n",
      "    - Samples hash quickly\n",
      "    - Samples can be hashed using relatively low and constant memory usage\n",
      "    \n",
      "We used two *Brachypodium* GBS datasets: bd1 (mostly diploid) and bd6 (mostly hexaploid). bd1 is a recombinant inbred line; bd6 is not, but the species is selfing, so low heterozygosity is expected in wild populations anyway.\n",
      "\n",
      "- approx. 4M read pairs: bd_1E4, bd_6D1\n",
      "- approx. 2M read pairs: bd_1E6, bd_6H11\n",
      "- approx. 1M read pairs: bd_1F9, bd_6F11"
     ]
    },
    {
     "cell_type": "code",
     "collapsed": false,
     "input": [
      "%matplotlib inline  \n",
      "import matplotlib.pyplot as plt\n",
      "# Can we improve kmer coverage by hashing at a lower k?\n",
      "# Not really.\n",
      "plt.plot(range(10, 30), \n",
      "         [get_estimated_coverage(num_read_pairs=4e6, genome_len=genome_len, k=k)[1] \n",
      "         for k in range(10, 30)])"
     ],
     "language": "python",
     "metadata": {},
     "outputs": []
    },
    {
     "cell_type": "code",
     "collapsed": false,
     "input": [
      "# We just hashed at k=12 because memory usage is much better.\n",
      "# Only 400 Mb per sample.\n",
      "!grep -E 'memory|fp|ms' ../test_data/bd1_gbs/bd_1E4.k12.log\n",
      "\n",
      "!python ../../scripts/plot_hist.py ../test_data/bd1_gbs/bd_1E4.k12.hist 1000 10\n",
      "!python ../../scripts/plot_hist.py ../test_data/bd6_gbs/bd_6D1.k12.hist 1000 10\n",
      "display(Image(filename=\"bd_1E4.k12.png\"), Image(filename=\"bd_6D1.k12.png\"))\n",
      "\n",
      "# No more repetitive organelle peaks, but no signal either."
     ],
     "language": "python",
     "metadata": {},
     "outputs": []
    },
    {
     "cell_type": "heading",
     "level": 2,
     "metadata": {},
     "source": [
      "Analysing high abundance 12-mers"
     ]
    },
    {
     "cell_type": "markdown",
     "metadata": {},
     "source": [
      "One thing we can do at k=12.\n",
      "There are not many 12-mers to iterate over and count.\n",
      "We take the most abundant kmers in one of the samples and constructed a counts matrix over all samples, normalised by library size."
     ]
    },
    {
     "cell_type": "code",
     "collapsed": false,
     "input": [
      "# Path to sample .htable, and number of read pairs in the sample to normalise counts by.\n",
      "# Another option is to normalise by the total number of kmers instead, which can be found in the .log files:\n",
      "# e.g. Total number of k-mers: 5508702\n",
      "\n",
      "# The most abundant kmers in the first sample are used\n",
      "!head bd_clustering/k12_tables.txt\n",
      "# Unfortunately this data is not on Dropbox (~9.7 Gb)"
     ],
     "language": "python",
     "metadata": {},
     "outputs": []
    },
    {
     "cell_type": "code",
     "collapsed": false,
     "input": [
      "%%bash\n",
      "\n",
      "cd ../test_data/bd_clustering/\n",
      "# List of sample kmer hash tables .htable\n",
      "# k=12\n",
      "# After skipping the 200 most abundant kmers of first sample, analyse the next 100.\n",
      "# The aim is to get a mean sample presence that is not close to 0% or 100%\n",
      "python ../../../scripts/repeat_pres_abs.py k12_tables.txt 12 200 100"
     ],
     "language": "python",
     "metadata": {},
     "outputs": []
    },
    {
     "cell_type": "heading",
     "level": 2,
     "metadata": {},
     "source": [
      "Clustering GBS samples by repeat profile"
     ]
    },
    {
     "cell_type": "code",
     "collapsed": false,
     "input": [
      "# Cluster samples (default dist measure=\"euclidean\", hclust method=\"complete\")\n",
      "!Rscript ../../scripts/cluster_samples.R \\\n",
      "    ../test_data/bd_clustering/k12_tables.skip200.N100.pres_abs.csv \\\n",
      "    k12_tables.skip200.N100_cluster.png\n",
      "    \n",
      "Image(filename=\"../test_data/bd_clustering/k12_tables.skip200.N100_cluster.png\")"
     ],
     "language": "python",
     "metadata": {},
     "outputs": []
    },
    {
     "cell_type": "heading",
     "level": 3,
     "metadata": {},
     "source": [
      "Considerations"
     ]
    },
    {
     "cell_type": "markdown",
     "metadata": {},
     "source": [
      "- Find out what the samples are biologically (esp. ploidy, replicates)\n",
      "- Different clustering methods\n",
      "- Lower the mean presence % per sample. Experiment with:\n",
      "    - Different set of kmers (i.e. the 2nd most abundant 100)\n",
      "    - Different value of k, although runtime increases exponentially"
     ]
    },
    {
     "cell_type": "heading",
     "level": 2,
     "metadata": {},
     "source": [
      "Source"
     ]
    },
    {
     "cell_type": "markdown",
     "metadata": {},
     "source": [
      "Work in progress at https://github.com/digitase/brachy_khmer"
     ]
    },
    {
     "cell_type": "heading",
     "level": 2,
     "metadata": {},
     "source": [
      "Acknowledgements"
     ]
    },
    {
     "cell_type": "markdown",
     "metadata": {},
     "source": [
      "- http://khmer.readthedocs.org/en/v1.1/scripts.html\n",
      "- Thanks to the Borevitz Lab, ANU esp. Kevin Murray"
     ]
    },
    {
     "cell_type": "markdown",
     "metadata": {},
     "source": [
      "Document TODO\n",
      "-------------\n",
      "\n",
      "- Make things plot on one graph\n",
      "- merge wgs_sim into tmp_dir"
     ]
    }
   ],
   "metadata": {}
  }
 ]
}