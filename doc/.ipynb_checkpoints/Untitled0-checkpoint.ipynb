{
 "metadata": {
  "name": "",
  "signature": "sha256:86c474698a9bbf4c2144bd6b01287ef4a044d050f7cd4be8b94e727da45598a9"
 },
 "nbformat": 3,
 "nbformat_minor": 0,
 "worksheets": [
  {
   "cells": [
    {
     "cell_type": "code",
     "collapsed": false,
     "input": [],
     "language": "python",
     "metadata": {},
     "outputs": []
    }
   ],
   "metadata": {}
  }
 ]
}